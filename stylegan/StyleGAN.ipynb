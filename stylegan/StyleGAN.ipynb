{
 "cells": [
  {
   "attachments": {},
   "cell_type": "markdown",
   "metadata": {},
   "source": [
    "# Install"
   ]
  },
  {
   "cell_type": "code",
   "execution_count": null,
   "metadata": {},
   "outputs": [],
   "source": [
    "!pip install -r requirements.txt"
   ]
  },
  {
   "attachments": {},
   "cell_type": "markdown",
   "metadata": {},
   "source": [
    "# Model Training\n",
    "Train the model based on the `pkmn_label.zip` dataset."
   ]
  },
  {
   "cell_type": "code",
   "execution_count": null,
   "metadata": {},
   "outputs": [],
   "source": [
    "!python train.py --outdir=./training-runs --cfg=stylegan2 --data=./datasets/pkmn_label.zip --gpus=1 --kimg=10000 --cond=True --snap=25"
   ]
  },
  {
   "attachments": {},
   "cell_type": "markdown",
   "metadata": {},
   "source": [
    "# Using Model\n",
    "Generate output (different for unconditional and conditional), the images that wanted to style transfer needed to put into `target` folder.\n",
    "\n",
    "We will be projecting the style onto an animal, instead on generating a new pokemon from scratch."
   ]
  },
  {
   "attachments": {},
   "cell_type": "markdown",
   "metadata": {},
   "source": [
    "## Unconditional StyleGAN"
   ]
  },
  {
   "cell_type": "code",
   "execution_count": null,
   "metadata": {},
   "outputs": [],
   "source": [
    "!python projector.py --outdir=out --target=./target/{IMAGE_FILE_NAME} --network=./training-runs/stylegan_unconditional.pkl --save-video=FALSE"
   ]
  },
  {
   "attachments": {},
   "cell_type": "markdown",
   "metadata": {},
   "source": [
    "## Conditional StyleGAN\n",
    "`ANIMAL_INDEX` can be found in `id.csv` file."
   ]
  },
  {
   "cell_type": "code",
   "execution_count": null,
   "metadata": {},
   "outputs": [],
   "source": [
    "!python projector.py --outdir=out --target=./target/{IMAGE_FILE_NAME} --network=./training-runs/stylegan_conditional.pkl --class={ANIMAL_INDEX} --save-video=FALSE"
   ]
  }
 ],
 "metadata": {
  "language_info": {
   "name": "python"
  },
  "orig_nbformat": 4
 },
 "nbformat": 4,
 "nbformat_minor": 2
}
